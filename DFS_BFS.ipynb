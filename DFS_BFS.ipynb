{
  "nbformat": 4,
  "nbformat_minor": 0,
  "metadata": {
    "colab": {
      "provenance": [],
      "authorship_tag": "ABX9TyMAku/1W+xE6becWvC06vmd",
      "include_colab_link": true
    },
    "kernelspec": {
      "name": "python3",
      "display_name": "Python 3"
    },
    "language_info": {
      "name": "python"
    }
  },
  "cells": [
    {
      "cell_type": "markdown",
      "metadata": {
        "id": "view-in-github",
        "colab_type": "text"
      },
      "source": [
        "<a href=\"https://colab.research.google.com/github/tech-dhawal-03/Data-Mining-Projects/blob/main/DFS_BFS.ipynb\" target=\"_parent\"><img src=\"https://colab.research.google.com/assets/colab-badge.svg\" alt=\"Open In Colab\"/></a>"
      ]
    },
    {
      "cell_type": "code",
      "execution_count": 1,
      "metadata": {
        "id": "ugW6zYPfeU8z"
      },
      "outputs": [],
      "source": [
        "from collections import deque"
      ]
    },
    {
      "cell_type": "code",
      "source": [
        "class ProblemSpace:\n",
        "    \"\"\"Represents the problem space with states and transitions.\"\"\"\n",
        "    def __init__(self, initial_state, goal_state, transitions):\n",
        "        self.initial_state = initial_state\n",
        "        self.goal_state = goal_state\n",
        "        self.transitions = transitions  # Dictionary: state -> list of next states\n",
        "\n",
        "    def get_next_states(self, state):\n",
        "        \"\"\"Returns a list of next possible states from the current state.\"\"\"\n",
        "        return self.transitions.get(state, [])\n",
        "\n",
        "    def is_goal_state(self, state):\n",
        "        \"\"\"Checks if the given state is the goal state.\"\"\"\n",
        "        return state == self.goal_state\n"
      ],
      "metadata": {
        "id": "hVs_H0BDel_f"
      },
      "execution_count": 2,
      "outputs": []
    },
    {
      "cell_type": "code",
      "source": [
        "def breadth_first_search(problem):\n",
        "    \"\"\"\n",
        "    Implements the Breadth-First Search (BFS) algorithm.\n",
        "\n",
        "    Args:\n",
        "        problem: An instance of the ProblemSpace class.\n",
        "\n",
        "    Returns:\n",
        "        A list representing the path from the initial state to the goal state,\n",
        "        or None if the goal state is not reachable.\n",
        "    \"\"\"\n",
        "    frontier = deque([([problem.initial_state], problem.initial_state)]) # Queue of (path, current_state)\n",
        "    explored = {problem.initial_state}\n",
        "\n",
        "    while frontier:\n",
        "        path, current_state = frontier.popleft()\n",
        "\n",
        "        if problem.is_goal_state(current_state):\n",
        "            return path\n",
        "\n",
        "        for next_state in problem.get_next_states(current_state):\n",
        "            if next_state not in explored:\n",
        "                explored.add(next_state)\n",
        "                new_path = list(path)\n",
        "                new_path.append(next_state)\n",
        "                frontier.append((new_path, next_state))\n",
        "\n",
        "    return None\n"
      ],
      "metadata": {
        "id": "QH736EgverI5"
      },
      "execution_count": 3,
      "outputs": []
    },
    {
      "cell_type": "code",
      "source": [
        "def depth_first_search(problem):\n",
        "    \"\"\"\n",
        "    Implements the Depth-First Search (DFS) algorithm using recursion.\n",
        "\n",
        "    Args:\n",
        "        problem: An instance of the ProblemSpace class.\n",
        "\n",
        "    Returns:\n",
        "        A list representing the path from the initial state to the goal state,\n",
        "        or None if the goal state is not reachable.\n",
        "    \"\"\"\n",
        "    explored = set()\n",
        "\n",
        "    def recursive_dfs(current_state, path):\n",
        "        explored.add(current_state)\n",
        "\n",
        "        if problem.is_goal_state(current_state):\n",
        "            return path\n",
        "\n",
        "        for next_state in problem.get_next_states(current_state):\n",
        "            if next_state not in explored:\n",
        "                result = recursive_dfs(next_state, path + [next_state])\n",
        "                if result is not None:\n",
        "                    return result\n",
        "        return None\n",
        "    return recursive_dfs(problem.initial_state, [problem.initial_state])"
      ],
      "metadata": {
        "id": "q06PjOuGeucV"
      },
      "execution_count": 9,
      "outputs": []
    },
    {
      "cell_type": "code",
      "source": [
        "# --- Example Problem Space ---\n",
        "# Let's represent a simple graph where nodes are states and edges are transitions.\n",
        "transitions = {\n",
        "    'A': ['B', 'C'],\n",
        "    'B': ['D', 'E'],\n",
        "    'C': ['F'],\n",
        "    'D': [],\n",
        "    'E': ['F'],\n",
        "    'F': ['G'],\n",
        "    'G': []\n",
        "}\n",
        "\n",
        "initial = 'A'\n",
        "goal = 'G'\n",
        "\n",
        "problem = ProblemSpace(initial, goal, transitions)\n",
        "\n",
        "# --- Run BFS ---\n",
        "print(\"--- Breadth-First Search ---\")\n",
        "bfs_path = breadth_first_search(problem)\n",
        "if bfs_path:\n",
        "    print(f\"Goal state '{goal}' found at path: {bfs_path}\")\n",
        "else:\n",
        "    print(f\"Goal state '{goal}' not reachable from '{initial}' using BFS.\")\n",
        "\n",
        "# --- Run DFS ---\n",
        "print(\"\\n--- Depth-First Search ---\")\n",
        "dfs_path = depth_first_search(problem)\n",
        "if dfs_path:\n",
        "    print(f\"Goal state '{goal}' found at path: {dfs_path}\")\n",
        "else:\n",
        "    print(f\"Goal state '{goal}' not reachable from '{initial}' using DFS.\")\n",
        "\n",
        "# --- Another Example (Unreachable Goal) ---\n",
        "goal_unreachable = 'H'\n",
        "problem_unreachable = ProblemSpace(initial, goal_unreachable, transitions)\n",
        "\n",
        "print(\"\\n--- BFS with Unreachable Goal ---\")\n",
        "bfs_path_unreachable = breadth_first_search(problem_unreachable)\n",
        "if bfs_path_unreachable:\n",
        "    print(f\"Goal state '{goal_unreachable}' found at path: {bfs_path_unreachable}\")\n",
        "else:\n",
        "    print(f\"Goal state '{goal_unreachable}' not reachable from '{initial}' using BFS.\")\n",
        "\n",
        "print(\"\\n--- DFS with Unreachable Goal ---\")\n",
        "dfs_path_unreachable = depth_first_search(problem_unreachable)\n",
        "if dfs_path_unreachable:\n",
        "    print(f\"Goal state '{goal_unreachable}' found at path: {dfs_path_unreachable}\")\n",
        "else:\n",
        "    print(f\"Goal state '{goal_unreachable}' not reachable from '{initial}' using DFS.\")\n"
      ],
      "metadata": {
        "colab": {
          "base_uri": "https://localhost:8080/"
        },
        "id": "N_YJMS2Ee51V",
        "outputId": "d8c5e1e4-830d-469f-bef7-7fd3cb382f47"
      },
      "execution_count": 10,
      "outputs": [
        {
          "output_type": "stream",
          "name": "stdout",
          "text": [
            "--- Breadth-First Search ---\n",
            "Goal state 'G' found at path: ['A', 'C', 'F', 'G']\n",
            "\n",
            "--- Depth-First Search ---\n",
            "Goal state 'G' found at path: ['A', 'B', 'E', 'F', 'G']\n",
            "\n",
            "--- BFS with Unreachable Goal ---\n",
            "Goal state 'H' not reachable from 'A' using BFS.\n",
            "\n",
            "--- DFS with Unreachable Goal ---\n",
            "Goal state 'H' not reachable from 'A' using DFS.\n"
          ]
        }
      ]
    }
  ]
}